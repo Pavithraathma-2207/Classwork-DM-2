{
 "cells": [
  {
   "cell_type": "markdown",
   "id": "2d61e280-7fed-4d6b-9dc8-f4de75fca4e4",
   "metadata": {},
   "source": [
    "## Data Loading and Preprocessing"
   ]
  },
  {
   "cell_type": "code",
   "execution_count": 2,
   "id": "f58e3250-6ee2-4fda-b344-be6c23a02f6b",
   "metadata": {},
   "outputs": [],
   "source": [
    "import pandas as pd\n",
    "\n",
    "data = pd.read_csv('student_data.csv')\n",
    "X = data[['Hours_Studied', 'Review_Session']]\n",
    "y = data['Results']\n"
   ]
  },
  {
   "cell_type": "markdown",
   "id": "60d38457-b00b-462c-b3d9-5c2a59afae0b",
   "metadata": {},
   "source": [
    "## Fit SVM Model with Linear Kernel"
   ]
  },
  {
   "cell_type": "code",
   "execution_count": 4,
   "id": "441594d6-bf14-48e5-8a4d-9f2e7e143ea9",
   "metadata": {},
   "outputs": [
    {
     "name": "stdout",
     "output_type": "stream",
     "text": [
      "Accuracy (Linear Kernel): 0.92\n"
     ]
    }
   ],
   "source": [
    "from sklearn.svm import SVC\n",
    "from sklearn.metrics import accuracy_score\n",
    "\n",
    "linear_svm = SVC(kernel='linear')\n",
    "linear_svm.fit(X, y)\n",
    "\n",
    "# Predict on the same dataset\n",
    "y_pred_linear = linear_svm.predict(X)\n",
    "\n",
    "# Evaluate accuracy\n",
    "accuracy_linear = accuracy_score(y, y_pred_linear)\n",
    "print(f\"Accuracy (Linear Kernel): {accuracy_linear:.2f}\")\n"
   ]
  },
  {
   "cell_type": "markdown",
   "id": "5094c094-c276-47f3-8829-903f6b3d3075",
   "metadata": {},
   "source": [
    "## Fit SVM Model with RBF Kernel & GridSearchCV for gamma"
   ]
  },
  {
   "cell_type": "code",
   "execution_count": 6,
   "id": "e42dff81-f325-4709-9f1a-46406285d12a",
   "metadata": {},
   "outputs": [
    {
     "name": "stdout",
     "output_type": "stream",
     "text": [
      "Best gamma value: 0.1\n",
      "Accuracy (RBF Kernel, gamma=0.1): 0.93\n"
     ]
    }
   ],
   "source": [
    "from sklearn.model_selection import GridSearchCV\n",
    "\n",
    "# Define parameter grid for gamma\n",
    "param_grid = {'gamma': [0.001, 0.01, 0.1, 1, 10, 100]}\n",
    "\n",
    "# GridSearch with 5-fold cross-validation\n",
    "grid_search = GridSearchCV(SVC(kernel='rbf'), param_grid, cv=5)\n",
    "grid_search.fit(X, y)\n",
    "\n",
    "# Best gamma parameter\n",
    "best_gamma = grid_search.best_params_['gamma']\n",
    "print(f\"Best gamma value: {best_gamma}\")\n",
    "\n",
    "# Fit the best RBF model\n",
    "rbf_svm = SVC(kernel='rbf', gamma=best_gamma)\n",
    "rbf_svm.fit(X, y)\n",
    "\n",
    "# Predict and evaluate accuracy\n",
    "y_pred_rbf = rbf_svm.predict(X)\n",
    "accuracy_rbf = accuracy_score(y, y_pred_rbf)\n",
    "print(f\"Accuracy (RBF Kernel, gamma={best_gamma}): {accuracy_rbf:.2f}\")\n"
   ]
  },
  {
   "cell_type": "markdown",
   "id": "dca658c3-0549-49e2-af5d-f139bb2f5edb",
   "metadata": {},
   "source": [
    "## Comparison of Results and Evaluation of Overfitting"
   ]
  },
  {
   "cell_type": "markdown",
   "id": "93362556-7951-4cff-a054-608fe90e342e",
   "metadata": {},
   "source": [
    "After fitting the Support Vector Machine (SVM) models with linear and RBF kernels, we obtained two sets of accuracy scores using the entire dataset for training and testing:\n",
    "\n",
    "Linear Kernel SVM: Achieved moderate accuracy due to its simpler decision boundary, which reduces the risk of overfitting but may not fully capture complex relationships.\n",
    "RBF Kernel SVM (with optimized gamma): Produced a higher accuracy because the RBF kernel can create complex decision boundaries, capturing nonlinear relationships in the data. The optimal gamma parameter found through grid search cross-validation further enhanced model accuracy.\n",
    "Discussion on Overfitting:\n",
    "Evaluating both models on the same dataset they were trained on typically results in overly optimistic performance metrics. In this scenario, the high accuracy achieved—particularly with the RBF kernel—likely indicates overfitting. Overfitting means the model learns not just the general patterns but also the specific noise or peculiarities of the dataset. Consequently, such a model might perform poorly on new, unseen data.\n",
    "\n",
    "To gain a realistic evaluation and to assess generalizability, a proper train-test split or cross-validation strategy is recommended. Evaluating on separate unseen data would provide a more realistic insight into the model’s true predictive capabilities and help accurately identify potential overfitting issues.\n",
    "\n",
    "Conclusion:\n",
    "Linear Kernel: Simpler, less prone to overfitting, slightly lower accuracy.\n",
    "RBF Kernel: More complex, potentially prone to overfitting if gamma is not properly tuned.\n",
    "Hence, while the RBF kernel provides greater flexibility and better fits this dataset, it demands careful validation strategies to avoid overfitting in practical applications."
   ]
  },
  {
   "cell_type": "code",
   "execution_count": null,
   "id": "cc5a051c-53fb-4469-a3e5-a19a791ac891",
   "metadata": {},
   "outputs": [],
   "source": []
  }
 ],
 "metadata": {
  "kernelspec": {
   "display_name": "Python 3 (ipykernel)",
   "language": "python",
   "name": "python3"
  },
  "language_info": {
   "codemirror_mode": {
    "name": "ipython",
    "version": 3
   },
   "file_extension": ".py",
   "mimetype": "text/x-python",
   "name": "python",
   "nbconvert_exporter": "python",
   "pygments_lexer": "ipython3",
   "version": "3.12.3"
  }
 },
 "nbformat": 4,
 "nbformat_minor": 5
}
